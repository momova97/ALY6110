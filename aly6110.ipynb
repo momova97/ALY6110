{
 "cells": [
  {
   "cell_type": "code",
   "execution_count": 1,
   "id": "87263703",
   "metadata": {
    "_cell_guid": "b1076dfc-b9ad-4769-8c92-a6c4dae69d19",
    "_uuid": "8f2839f25d086af736a60e9eeb907d3b93b6e0e5",
    "execution": {
     "iopub.execute_input": "2023-11-27T01:13:38.614932Z",
     "iopub.status.busy": "2023-11-27T01:13:38.614074Z",
     "iopub.status.idle": "2023-11-27T01:13:39.536855Z",
     "shell.execute_reply": "2023-11-27T01:13:39.535710Z"
    },
    "papermill": {
     "duration": 0.934143,
     "end_time": "2023-11-27T01:13:39.539425",
     "exception": false,
     "start_time": "2023-11-27T01:13:38.605282",
     "status": "completed"
    },
    "tags": []
   },
   "outputs": [
    {
     "name": "stdout",
     "output_type": "stream",
     "text": [
      "/kaggle/input/amazon-canada-products-2023-2-1m-products/amz_ca_total_products_data_processed.csv\n"
     ]
    }
   ],
   "source": [
    "# This Python 3 environment comes with many helpful analytics libraries installed\n",
    "# It is defined by the kaggle/python Docker image: https://github.com/kaggle/docker-python\n",
    "# For example, here's several helpful packages to load\n",
    "\n",
    "import numpy as np # linear algebra\n",
    "import pandas as pd # data processing, CSV file I/O (e.g. pd.read_csv)\n",
    "\n",
    "# Input data files are available in the read-only \"../input/\" directory\n",
    "# For example, running this (by clicking run or pressing Shift+Enter) will list all files under the input directory\n",
    "\n",
    "import os\n",
    "for dirname, _, filenames in os.walk('/kaggle/input'):\n",
    "    for filename in filenames:\n",
    "        print(os.path.join(dirname, filename))\n",
    "\n",
    "# You can write up to 20GB to the current directory (/kaggle/working/) that gets preserved as output when you create a version using \"Save & Run All\" \n",
    "# You can also write temporary files to /kaggle/temp/, but they won't be saved outside of the current session\n"
   ]
  },
  {
   "cell_type": "markdown",
   "id": "e92db128",
   "metadata": {
    "papermill": {
     "duration": 0.006234,
     "end_time": "2023-11-27T01:13:39.552263",
     "exception": false,
     "start_time": "2023-11-27T01:13:39.546029",
     "status": "completed"
    },
    "tags": []
   },
   "source": [
    "Loading the Data"
   ]
  },
  {
   "cell_type": "code",
   "execution_count": 2,
   "id": "26607185",
   "metadata": {
    "execution": {
     "iopub.execute_input": "2023-11-27T01:13:39.567399Z",
     "iopub.status.busy": "2023-11-27T01:13:39.566581Z",
     "iopub.status.idle": "2023-11-27T01:14:57.478454Z",
     "shell.execute_reply": "2023-11-27T01:14:57.476984Z"
    },
    "papermill": {
     "duration": 77.925307,
     "end_time": "2023-11-27T01:14:57.483771",
     "exception": false,
     "start_time": "2023-11-27T01:13:39.558464",
     "status": "completed"
    },
    "tags": []
   },
   "outputs": [
    {
     "name": "stdout",
     "output_type": "stream",
     "text": [
      "Collecting pyspark\r\n",
      "  Downloading pyspark-3.5.0.tar.gz (316.9 MB)\r\n",
      "\u001b[2K     \u001b[90m━━━━━━━━━━━━━━━━━━━━━━━━━━━━━━━━━━━━━━━\u001b[0m \u001b[32m316.9/316.9 MB\u001b[0m \u001b[31m3.4 MB/s\u001b[0m eta \u001b[36m0:00:00\u001b[0m\r\n",
      "\u001b[?25h  Preparing metadata (setup.py) ... \u001b[?25l-\b \b\\\b \bdone\r\n",
      "\u001b[?25hRequirement already satisfied: py4j==0.10.9.7 in /opt/conda/lib/python3.10/site-packages (from pyspark) (0.10.9.7)\r\n",
      "Building wheels for collected packages: pyspark\r\n",
      "  Building wheel for pyspark (setup.py) ... \u001b[?25l-\b \b\\\b \b|\b \bdone\r\n",
      "\u001b[?25h  Created wheel for pyspark: filename=pyspark-3.5.0-py2.py3-none-any.whl size=317425344 sha256=8f76ef5f426d51d1848ac53dad48423b51c869d6dfecc89b9c479f97cf841903\r\n",
      "  Stored in directory: /root/.cache/pip/wheels/41/4e/10/c2cf2467f71c678cfc8a6b9ac9241e5e44a01940da8fbb17fc\r\n",
      "Successfully built pyspark\r\n",
      "Installing collected packages: pyspark\r\n",
      "Successfully installed pyspark-3.5.0\r\n"
     ]
    },
    {
     "name": "stderr",
     "output_type": "stream",
     "text": [
      "Setting default log level to \"WARN\".\n",
      "To adjust logging level use sc.setLogLevel(newLevel). For SparkR, use setLogLevel(newLevel).\n",
      "23/11/27 01:14:39 WARN NativeCodeLoader: Unable to load native-hadoop library for your platform... using builtin-java classes where applicable\n",
      "                                                                                \r"
     ]
    }
   ],
   "source": [
    "!pip install pyspark\n",
    "\n",
    "from pyspark.sql import SparkSession\n",
    "\n",
    "# Initialize Spark session\n",
    "spark = SparkSession.builder.appName(\"AmazonCanadaAnalysis\").getOrCreate()\n",
    "\n",
    "# Load the dataset\n",
    "df = spark.read.csv('/kaggle/input/amazon-canada-products-2023-2-1m-products/amz_ca_total_products_data_processed.csv', header=True, inferSchema=True)"
   ]
  },
  {
   "cell_type": "markdown",
   "id": "25d15116",
   "metadata": {
    "papermill": {
     "duration": 0.023016,
     "end_time": "2023-11-27T01:14:57.532589",
     "exception": false,
     "start_time": "2023-11-27T01:14:57.509573",
     "status": "completed"
    },
    "tags": []
   },
   "source": [
    "Data Exploration and Cleaning: Explore the data to understand its structure and clean it as necessary.\n",
    "\n"
   ]
  },
  {
   "cell_type": "code",
   "execution_count": 3,
   "id": "89cacc38",
   "metadata": {
    "execution": {
     "iopub.execute_input": "2023-11-27T01:14:57.582123Z",
     "iopub.status.busy": "2023-11-27T01:14:57.581653Z",
     "iopub.status.idle": "2023-11-27T01:16:19.240438Z",
     "shell.execute_reply": "2023-11-27T01:16:19.239103Z"
    },
    "papermill": {
     "duration": 81.68783,
     "end_time": "2023-11-27T01:16:19.244938",
     "exception": false,
     "start_time": "2023-11-27T01:14:57.557108",
     "status": "completed"
    },
    "tags": []
   },
   "outputs": [
    {
     "name": "stdout",
     "output_type": "stream",
     "text": [
      "root\n",
      " |-- asin: string (nullable = true)\n",
      " |-- title: string (nullable = true)\n",
      " |-- imgUrl: string (nullable = true)\n",
      " |-- productURL: string (nullable = true)\n",
      " |-- stars: string (nullable = true)\n",
      " |-- reviews: string (nullable = true)\n",
      " |-- price: string (nullable = true)\n",
      " |-- listPrice: string (nullable = true)\n",
      " |-- categoryName: string (nullable = true)\n",
      " |-- isBestSeller: string (nullable = true)\n",
      " |-- boughtInLastMonth: string (nullable = true)\n",
      "\n"
     ]
    },
    {
     "name": "stderr",
     "output_type": "stream",
     "text": [
      "23/11/27 01:14:58 WARN SparkStringUtils: Truncated the string representation of a plan since it was too large. This behavior can be adjusted by setting 'spark.sql.debug.maxToStringFields'.\n",
      "                                                                                \r"
     ]
    },
    {
     "name": "stdout",
     "output_type": "stream",
     "text": [
      "+-------+--------------------+--------------------+--------------------+---------------------+--------------------+--------------------+--------------------+-----------------+-------------------+-----------------+--------------------+\n",
      "|summary|                asin|               title|              imgUrl|           productURL|               stars|             reviews|               price|        listPrice|       categoryName|     isBestSeller|   boughtInLastMonth|\n",
      "+-------+--------------------+--------------------+--------------------+---------------------+--------------------+--------------------+--------------------+-----------------+-------------------+-----------------+--------------------+\n",
      "|  count|             2165926|             2165926|             2165924|              2165926|             2165925|             2165925|             2165926|          2165926|            2165926|          2165926|             2165913|\n",
      "|   mean|2.3207400514224043E9|   2.862830523638E10| 4.759527732915987E7|  1.569627208106061E8|  10352.333177828914|    9385.66069326362|    8823.41443322051| 8227.00189840868|  43432.75481984535|139.8084287092411|  10.041127755593733|\n",
      "| stddev|2.5249539188971467E9|1.430223267760279...|1.3915117523296282E8| 1.2766542080433652E9|1.0140429885887565E7|1.0059413678777305E7|1.0021112140208427E7|9994003.050938293|  4658429.726720685|5993.260819780474|  143.13275254826056|\n",
      "|    min|          0000657999| 1990 Proof Like ...|                    |                     |                    |           Chrome OS|              Silver|                 |  & Disabled users\"|     (Pack of 4)\"|      (ETL Approved)|\n",
      "|    max|          TCHLS5408E|📬 United States ...|    （2x3 b Elbow）\"|（Includes 5V/2A P...|एलईडी #JustLaunched\"|            workench|    wood cake stand\"| wooden pedestal\"|wedding cake stand\"|     with Screws\"|https://www.amazo...|\n",
      "+-------+--------------------+--------------------+--------------------+---------------------+--------------------+--------------------+--------------------+-----------------+-------------------+-----------------+--------------------+\n",
      "\n"
     ]
    },
    {
     "name": "stderr",
     "output_type": "stream",
     "text": [
      "[Stage 5:===============================================>           (4 + 1) / 5]\r"
     ]
    },
    {
     "name": "stdout",
     "output_type": "stream",
     "text": [
      "+----+-----+------+----------+-----+-------+-----+---------+------------+------------+-----------------+\n",
      "|asin|title|imgUrl|productURL|stars|reviews|price|listPrice|categoryName|isBestSeller|boughtInLastMonth|\n",
      "+----+-----+------+----------+-----+-------+-----+---------+------------+------------+-----------------+\n",
      "|   0|    0|     2|         0|    1|      1|    0|        0|           0|           0|               13|\n",
      "+----+-----+------+----------+-----+-------+-----+---------+------------+------------+-----------------+\n",
      "\n"
     ]
    },
    {
     "name": "stderr",
     "output_type": "stream",
     "text": [
      "                                                                                \r"
     ]
    }
   ],
   "source": [
    "from pyspark.sql.functions import isnan, when, count, col\n",
    "# Display the DataFrame schema\n",
    "df.printSchema()\n",
    "\n",
    "# Show summary statistics\n",
    "df.describe().show()\n",
    "\n",
    "# Check for missing values\n",
    "df.select([count(when(isnan(c) | col(c).isNull(), c)).alias(c) for c in df.columns]).show()\n",
    "\n",
    "# Drop duplicates and handle missing values as needed\n",
    "df_cleaned = df.dropDuplicates().na.fill({\"listPrice\": 0}) # filling missing listPrice with 0"
   ]
  },
  {
   "cell_type": "markdown",
   "id": "ecad82fd",
   "metadata": {
    "papermill": {
     "duration": 0.028297,
     "end_time": "2023-11-27T01:16:19.301670",
     "exception": false,
     "start_time": "2023-11-27T01:16:19.273373",
     "status": "completed"
    },
    "tags": []
   },
   "source": [
    "Based on the output, it looks like most columns do not have missing values, which is good. However, there are a few columns with missing data that need to be addressed:\n",
    "\n",
    "* imgUrl has 2 missing values.\n",
    "* stars and reviews each have 1 missing value.\n",
    "* boughtInLastMonth has 13 missing values.\n",
    "\n",
    "Since the dataset it very larg I will just delete these records"
   ]
  },
  {
   "cell_type": "code",
   "execution_count": 4,
   "id": "26193b53",
   "metadata": {
    "execution": {
     "iopub.execute_input": "2023-11-27T01:16:19.361280Z",
     "iopub.status.busy": "2023-11-27T01:16:19.360728Z",
     "iopub.status.idle": "2023-11-27T01:16:52.951973Z",
     "shell.execute_reply": "2023-11-27T01:16:52.950682Z"
    },
    "papermill": {
     "duration": 33.656485,
     "end_time": "2023-11-27T01:16:52.986437",
     "exception": false,
     "start_time": "2023-11-27T01:16:19.329952",
     "status": "completed"
    },
    "tags": []
   },
   "outputs": [
    {
     "name": "stderr",
     "output_type": "stream",
     "text": [
      "[Stage 8:===============================================>           (4 + 1) / 5]\r"
     ]
    },
    {
     "name": "stdout",
     "output_type": "stream",
     "text": [
      "+----+-----+------+----------+-----+-------+-----+---------+------------+------------+-----------------+\n",
      "|asin|title|imgUrl|productURL|stars|reviews|price|listPrice|categoryName|isBestSeller|boughtInLastMonth|\n",
      "+----+-----+------+----------+-----+-------+-----+---------+------------+------------+-----------------+\n",
      "|   0|    0|     0|         0|    0|      0|    0|        0|           0|           0|                0|\n",
      "+----+-----+------+----------+-----+-------+-----+---------+------------+------------+-----------------+\n",
      "\n"
     ]
    },
    {
     "name": "stderr",
     "output_type": "stream",
     "text": [
      "                                                                                \r"
     ]
    }
   ],
   "source": [
    "df_cleaned = df.na.drop(subset=[\"imgUrl\", \"stars\", \"reviews\", \"boughtInLastMonth\"])\n",
    "# Check for missing values\n",
    "df_cleaned.select([count(when(isnan(c) | col(c).isNull(), c)).alias(c) for c in df.columns]).show()"
   ]
  },
  {
   "cell_type": "code",
   "execution_count": 5,
   "id": "1c3f2b40",
   "metadata": {
    "execution": {
     "iopub.execute_input": "2023-11-27T01:16:53.050803Z",
     "iopub.status.busy": "2023-11-27T01:16:53.050051Z",
     "iopub.status.idle": "2023-11-27T01:16:53.093624Z",
     "shell.execute_reply": "2023-11-27T01:16:53.092571Z"
    },
    "papermill": {
     "duration": 0.083525,
     "end_time": "2023-11-27T01:16:53.100506",
     "exception": false,
     "start_time": "2023-11-27T01:16:53.016981",
     "status": "completed"
    },
    "tags": []
   },
   "outputs": [],
   "source": [
    "# Remove rows where 'price' is null or NaN\n",
    "df_cleaned = df_cleaned.filter(~(isnan(col(\"price\")) | col(\"price\").isNull()))"
   ]
  },
  {
   "cell_type": "markdown",
   "id": "abfeb442",
   "metadata": {
    "papermill": {
     "duration": 0.030071,
     "end_time": "2023-11-27T01:16:53.160677",
     "exception": false,
     "start_time": "2023-11-27T01:16:53.130606",
     "status": "completed"
    },
    "tags": []
   },
   "source": [
    "# Data Analysis"
   ]
  },
  {
   "cell_type": "code",
   "execution_count": 6,
   "id": "a79bb399",
   "metadata": {
    "execution": {
     "iopub.execute_input": "2023-11-27T01:16:53.227870Z",
     "iopub.status.busy": "2023-11-27T01:16:53.226288Z",
     "iopub.status.idle": "2023-11-27T01:17:20.070976Z",
     "shell.execute_reply": "2023-11-27T01:17:20.069753Z"
    },
    "papermill": {
     "duration": 26.886296,
     "end_time": "2023-11-27T01:17:20.077232",
     "exception": false,
     "start_time": "2023-11-27T01:16:53.190936",
     "status": "completed"
    },
    "tags": []
   },
   "outputs": [
    {
     "name": "stderr",
     "output_type": "stream",
     "text": [
      "                                                                                \r"
     ]
    },
    {
     "name": "stdout",
     "output_type": "stream",
     "text": [
      "Correlation between stars and price: 0.9923098616539626\n"
     ]
    },
    {
     "name": "stderr",
     "output_type": "stream",
     "text": [
      "[Stage 14:==============================================>           (4 + 1) / 5]\r"
     ]
    },
    {
     "name": "stdout",
     "output_type": "stream",
     "text": [
      "Correlation between reviews and price: 0.9940433778168181\n"
     ]
    },
    {
     "name": "stderr",
     "output_type": "stream",
     "text": [
      "                                                                                \r"
     ]
    },
    {
     "name": "stdout",
     "output_type": "stream",
     "text": [
      "Correlation between stars and isBestSeller: 0.00014394855188372708\n"
     ]
    },
    {
     "name": "stderr",
     "output_type": "stream",
     "text": [
      "[Stage 20:==============================================>           (4 + 1) / 5]\r"
     ]
    },
    {
     "name": "stdout",
     "output_type": "stream",
     "text": [
      "Correlation between reviews and isBestSeller: -1.9018417641302189e-06\n"
     ]
    },
    {
     "name": "stderr",
     "output_type": "stream",
     "text": [
      "                                                                                \r"
     ]
    }
   ],
   "source": [
    "from pyspark.sql.functions import col\n",
    "\n",
    "# Convert isBestSeller to numerical value\n",
    "df_cleaned = df_cleaned.withColumn(\"isBestSeller\", col(\"isBestSeller\").cast(\"integer\"))\n",
    "# Ensure that 'stars' and 'price' are of a numerical type\n",
    "df_cleaned = df_cleaned.withColumn(\"stars\", col(\"stars\").cast(\"float\"))\n",
    "df_cleaned = df_cleaned.withColumn(\"price\", col(\"price\").cast(\"float\"))\n",
    "df_cleaned = df_cleaned.withColumn(\"reviews\", col(\"reviews\").cast(\"float\"))\n",
    "\n",
    "# Calculate correlations\n",
    "print(\"Correlation between stars and price:\", df_cleaned.stat.corr(\"stars\", \"price\"))\n",
    "print(\"Correlation between reviews and price:\", df_cleaned.stat.corr(\"reviews\", \"price\"))\n",
    "print(\"Correlation between stars and isBestSeller:\", df_cleaned.stat.corr(\"stars\", \"isBestSeller\"))\n",
    "print(\"Correlation between reviews and isBestSeller:\", df_cleaned.stat.corr(\"reviews\", \"isBestSeller\"))\n"
   ]
  },
  {
   "cell_type": "code",
   "execution_count": 7,
   "id": "ad75450d",
   "metadata": {
    "execution": {
     "iopub.execute_input": "2023-11-27T01:17:20.145272Z",
     "iopub.status.busy": "2023-11-27T01:17:20.144727Z",
     "iopub.status.idle": "2023-11-27T01:18:17.755316Z",
     "shell.execute_reply": "2023-11-27T01:18:17.753595Z"
    },
    "papermill": {
     "duration": 57.648409,
     "end_time": "2023-11-27T01:18:17.758445",
     "exception": false,
     "start_time": "2023-11-27T01:17:20.110036",
     "status": "completed"
    },
    "tags": []
   },
   "outputs": [
    {
     "name": "stderr",
     "output_type": "stream",
     "text": [
      "23/11/27 01:17:21 WARN Instrumentation: [db20bc3c] regParam is zero, which might cause numerical instability and overfitting.\n",
      "23/11/27 01:17:35 WARN InstanceBuilder: Failed to load implementation from:dev.ludovic.netlib.blas.JNIBLAS\n",
      "23/11/27 01:17:43 WARN InstanceBuilder: Failed to load implementation from:dev.ludovic.netlib.lapack.JNILAPACK\n",
      "[Stage 25:==============================================>           (4 + 1) / 5]\r"
     ]
    },
    {
     "name": "stdout",
     "output_type": "stream",
     "text": [
      "Root Mean Squared Error (RMSE) on test data = 3479.509219894769\n"
     ]
    },
    {
     "name": "stderr",
     "output_type": "stream",
     "text": [
      "                                                                                \r"
     ]
    }
   ],
   "source": [
    "from pyspark.ml.feature import VectorAssembler\n",
    "from pyspark.ml.regression import LinearRegression\n",
    "from pyspark.ml.evaluation import RegressionEvaluator\n",
    "\n",
    "df_cleaned = df_cleaned.filter(~(isnan(col(\"price\")) | col(\"price\").isNull()))\n",
    "\n",
    "# Assemble features with handling invalid (null) values by skipping them\n",
    "assembler = VectorAssembler(inputCols=[\"stars\", \"reviews\"], outputCol=\"features\", handleInvalid=\"skip\")\n",
    "df_features = assembler.transform(df_cleaned)\n",
    "# Split the data into training and test sets\n",
    "train_data, test_data = df_features.randomSplit([0.7, 0.3])\n",
    "train_data = train_data.filter(~isnan(col('price')) & ~col('price').isNull())\n",
    "test_data = test_data.filter(~isnan(col('price')) & ~col('price').isNull())\n",
    "# Train the model\n",
    "lr = LinearRegression(featuresCol='features', labelCol='price')\n",
    "lr_model = lr.fit(train_data)\n",
    "\n",
    "# Make predictions\n",
    "predictions = lr_model.transform(test_data)\n",
    "\n",
    "# Evaluate the model\n",
    "evaluator = RegressionEvaluator(labelCol=\"price\", predictionCol=\"prediction\", metricName=\"rmse\")\n",
    "rmse = evaluator.evaluate(predictions)\n",
    "print(\"Root Mean Squared Error (RMSE) on test data =\", rmse)"
   ]
  },
  {
   "cell_type": "markdown",
   "id": "1d5a3560",
   "metadata": {
    "papermill": {
     "duration": 0.023167,
     "end_time": "2023-11-27T01:18:17.806235",
     "exception": false,
     "start_time": "2023-11-27T01:18:17.783068",
     "status": "completed"
    },
    "tags": []
   },
   "source": [
    "# visualization "
   ]
  },
  {
   "cell_type": "code",
   "execution_count": 8,
   "id": "c5cfa5f7",
   "metadata": {
    "execution": {
     "iopub.execute_input": "2023-11-27T01:18:17.855228Z",
     "iopub.status.busy": "2023-11-27T01:18:17.854779Z",
     "iopub.status.idle": "2023-11-27T01:18:33.840580Z",
     "shell.execute_reply": "2023-11-27T01:18:33.839647Z"
    },
    "papermill": {
     "duration": 16.014118,
     "end_time": "2023-11-27T01:18:33.843682",
     "exception": false,
     "start_time": "2023-11-27T01:18:17.829564",
     "status": "completed"
    },
    "tags": []
   },
   "outputs": [
    {
     "name": "stderr",
     "output_type": "stream",
     "text": [
      "                                                                                \r"
     ]
    },
    {
     "data": {
      "image/png": "[encoded data removed]",
      "text/plain": [
       "<Figure size 1000x600 with 1 Axes>"
      ]
     },
     "metadata": {},
     "output_type": "display_data"
    }
   ],
   "source": [
    "import pandas as pd\n",
    "import matplotlib.pyplot as plt\n",
    "\n",
    "# Sample 0.1% of the data randomly without replacement\n",
    "sampled_predictions = predictions.sample(False, 0.001)\n",
    "\n",
    "# Convert to Pandas DataFrame\n",
    "result_pdf = sampled_predictions.select(\"reviews\", \"price\", \"prediction\").toPandas()\n",
    "\n",
    "# Plotting\n",
    "plt.figure(figsize=(10, 6))\n",
    "plt.scatter(result_pdf['reviews'], result_pdf['price'], alpha=0.5, label='Actual Price')\n",
    "plt.plot(result_pdf['reviews'], result_pdf['prediction'], color='red', linewidth=2, label='Predicted Price')\n",
    "plt.xlabel('Number of Reviews')\n",
    "plt.ylabel('Price')\n",
    "plt.title('Sampled Reviews vs Price')\n",
    "plt.legend()\n",
    "plt.show()"
   ]
  },
  {
   "cell_type": "code",
   "execution_count": 9,
   "id": "6bdfff74",
   "metadata": {
    "execution": {
     "iopub.execute_input": "2023-11-27T01:18:33.967668Z",
     "iopub.status.busy": "2023-11-27T01:18:33.966991Z",
     "iopub.status.idle": "2023-11-27T01:19:05.366939Z",
     "shell.execute_reply": "2023-11-27T01:19:05.365653Z"
    },
    "papermill": {
     "duration": 31.430311,
     "end_time": "2023-11-27T01:19:05.370410",
     "exception": false,
     "start_time": "2023-11-27T01:18:33.940099",
     "status": "completed"
    },
    "tags": []
   },
   "outputs": [
    {
     "name": "stderr",
     "output_type": "stream",
     "text": [
      "23/11/27 01:18:53 WARN RowBasedKeyValueBatch: Calling spill() on RowBasedKeyValueBatch. Will not spill but return 0.\n",
      "23/11/27 01:18:53 WARN RowBasedKeyValueBatch: Calling spill() on RowBasedKeyValueBatch. Will not spill but return 0.\n",
      "23/11/27 01:18:54 WARN RowBasedKeyValueBatch: Calling spill() on RowBasedKeyValueBatch. Will not spill but return 0.\n",
      "23/11/27 01:18:54 WARN RowBasedKeyValueBatch: Calling spill() on RowBasedKeyValueBatch. Will not spill but return 0.\n",
      "23/11/27 01:18:59 WARN RowBasedKeyValueBatch: Calling spill() on RowBasedKeyValueBatch. Will not spill but return 0.\n",
      "23/11/27 01:18:59 WARN RowBasedKeyValueBatch: Calling spill() on RowBasedKeyValueBatch. Will not spill but return 0.\n",
      "23/11/27 01:18:59 WARN RowBasedKeyValueBatch: Calling spill() on RowBasedKeyValueBatch. Will not spill but return 0.\n",
      "23/11/27 01:18:59 WARN RowBasedKeyValueBatch: Calling spill() on RowBasedKeyValueBatch. Will not spill but return 0.\n",
      "                                                                                \r"
     ]
    },
    {
     "data": {
      "image/png": "[encoded data removed]",
      "text/plain": [
       "<Figure size 1000x600 with 1 Axes>"
      ]
     },
     "metadata": {},
     "output_type": "display_data"
    }
   ],
   "source": [
    "from pyspark.sql.functions import col, sqrt, avg\n",
    "from pyspark.ml.evaluation import RegressionEvaluator\n",
    "from pyspark.ml.feature import Bucketizer\n",
    "\n",
    "# Define the evaluator\n",
    "evaluator = RegressionEvaluator(labelCol=\"price\", predictionCol=\"prediction\", metricName=\"rmse\")\n",
    "\n",
    "# Sample 0.1% of the data randomly without replacement\n",
    "sampled_predictions = predictions.sample(False, 0.001)\n",
    "\n",
    "# Find the maximum value in the 'reviews' column\n",
    "max_reviews = sampled_predictions.agg({\"reviews\": \"max\"}).collect()[0][0]\n",
    "\n",
    "# Define the bins, making sure the last bin covers the maximum value\n",
    "bins = [0, 1000, 2000, 3000, 4000, 5000, 6000,7000,8000,9000,10000, max_reviews]\n",
    "\n",
    "# Create the bucketizer\n",
    "bucketizer = Bucketizer(splits=bins, inputCol=\"reviews\", outputCol=\"review_bins\")\n",
    "\n",
    "# Apply the bucketizer to create the bins\n",
    "predictions_binned = bucketizer.transform(sampled_predictions)\n",
    "\n",
    "\n",
    "# Group by the review_bins and calculate RMSE for each bin\n",
    "rmse_by_bin = (\n",
    "    predictions_binned\n",
    "    .groupBy(\"review_bins\")\n",
    "    .agg(\n",
    "        sqrt(avg((col(\"price\") - col(\"prediction\"))**2)).alias(\"rmse\")\n",
    "    )\n",
    "    .orderBy(\"review_bins\")\n",
    ")\n",
    "\n",
    "# Collect the data and plot\n",
    "rmse_by_bin_data = rmse_by_bin.toPandas()\n",
    "\n",
    "plt.figure(figsize=(10, 6))\n",
    "plt.plot(rmse_by_bin_data['review_bins'], rmse_by_bin_data['rmse'], marker='o')\n",
    "plt.xlabel('Review Bins')\n",
    "plt.ylabel('RMSE')\n",
    "plt.title('RMSE by Review Bins')\n",
    "plt.xticks(ticks=range(len(bins)), labels=bins)\n",
    "plt.grid(True)\n",
    "plt.show()"
   ]
  },
  {
   "cell_type": "code",
   "execution_count": 10,
   "id": "1b087280",
   "metadata": {
    "execution": {
     "iopub.execute_input": "2023-11-27T01:19:05.451227Z",
     "iopub.status.busy": "2023-11-27T01:19:05.450273Z",
     "iopub.status.idle": "2023-11-27T01:19:20.409927Z",
     "shell.execute_reply": "2023-11-27T01:19:20.408691Z"
    },
    "papermill": {
     "duration": 15.003726,
     "end_time": "2023-11-27T01:19:20.412739",
     "exception": false,
     "start_time": "2023-11-27T01:19:05.409013",
     "status": "completed"
    },
    "tags": []
   },
   "outputs": [
    {
     "name": "stderr",
     "output_type": "stream",
     "text": [
      "                                                                                \r"
     ]
    },
    {
     "data": {
      "image/png": "[encoded data removed]",
      "text/plain": [
       "<Figure size 1000x600 with 1 Axes>"
      ]
     },
     "metadata": {},
     "output_type": "display_data"
    }
   ],
   "source": [
    "import pandas as pd\n",
    "import matplotlib.pyplot as plt\n",
    "\n",
    "# Sample 0.1% of the data randomly without replacement\n",
    "sampled_predictions = predictions.sample(False, 0.001)\n",
    "\n",
    "# Convert to Pandas DataFrame\n",
    "result_pdf = sampled_predictions.select(\"reviews\", \"price\", \"prediction\").toPandas()\n",
    "\n",
    "# Plotting\n",
    "plt.figure(figsize=(10, 6))\n",
    "plt.scatter(result_pdf['reviews'], result_pdf['price'], alpha=0.5, label='Actual Price')\n",
    "plt.plot(result_pdf['reviews'], result_pdf['prediction'], color='red', linewidth=2, label='Predicted Price')\n",
    "plt.axvline(x=3000, color='green', linestyle='--', label='3000 Reviews Threshold')\n",
    "plt.xlabel('Number of Reviews')\n",
    "plt.ylabel('Price')\n",
    "plt.title('Sampled Reviews vs Price with Threshold')\n",
    "plt.legend()\n",
    "plt.xscale('log')  # Optional: Use logarithmic scale if the reviews vary by orders of magnitude\n",
    "plt.show()"
   ]
  },
  {
   "cell_type": "code",
   "execution_count": 11,
   "id": "a1bf0e38",
   "metadata": {
    "collapsed": true,
    "execution": {
     "iopub.execute_input": "2023-11-27T01:19:20.474669Z",
     "iopub.status.busy": "2023-11-27T01:19:20.474188Z",
     "iopub.status.idle": "2023-11-27T01:20:42.971895Z",
     "shell.execute_reply": "2023-11-27T01:20:42.970113Z"
    },
    "jupyter": {
     "outputs_hidden": true
    },
    "papermill": {
     "duration": 82.533331,
     "end_time": "2023-11-27T01:20:42.975508",
     "exception": false,
     "start_time": "2023-11-27T01:19:20.442177",
     "status": "completed"
    },
    "tags": []
   },
   "outputs": [
    {
     "name": "stderr",
     "output_type": "stream",
     "text": [
      "23/11/27 01:19:20 WARN Instrumentation: [c25f3d54] regParam is zero, which might cause numerical instability and overfitting.\n",
      "23/11/27 01:19:49 WARN Instrumentation: [7aafec45] regParam is zero, which might cause numerical instability and overfitting.\n",
      "[Stage 44:==============================================>           (4 + 1) / 5]\r"
     ]
    },
    {
     "name": "stdout",
     "output_type": "stream",
     "text": [
      "Above 3000 reviews model RMSE: 16153.63865360782\n",
      "Below 3000 reviews model RMSE: 506.5202428550075\n"
     ]
    },
    {
     "name": "stderr",
     "output_type": "stream",
     "text": [
      "                                                                                \r"
     ]
    }
   ],
   "source": [
    "from pyspark.ml.regression import LinearRegression\n",
    "from pyspark.ml.evaluation import RegressionEvaluator\n",
    "\n",
    "# Split the data\n",
    "above_3000_df = predictions.filter(col(\"reviews\") > 3000).drop('prediction')\n",
    "below_3000_df = predictions.filter(col(\"reviews\") <= 3000).drop('prediction')\n",
    "\n",
    "# Train a new model on data with more than 3000 reviews\n",
    "lr_above_3000 = LinearRegression(featuresCol='features', labelCol='price')\n",
    "lr_model_above_3000 = lr_above_3000.fit(above_3000_df)\n",
    "\n",
    "# Train a new model on data with less than or equal to 3000 reviews\n",
    "lr_below_3000 = LinearRegression(featuresCol='features', labelCol='price')\n",
    "lr_model_below_3000 = lr_below_3000.fit(below_3000_df)\n",
    "\n",
    "# Evaluate the models\n",
    "evaluator = RegressionEvaluator(labelCol=\"price\", predictionCol=\"prediction\", metricName=\"rmse\")\n",
    "\n",
    "# Make predictions and evaluate the new models\n",
    "above_3000_predictions = lr_model_above_3000.transform(above_3000_df)\n",
    "above_3000_rmse = evaluator.evaluate(above_3000_predictions)\n",
    "\n",
    "below_3000_predictions = lr_model_below_3000.transform(below_3000_df)\n",
    "below_3000_rmse = evaluator.evaluate(below_3000_predictions)\n",
    "\n",
    "# Compare the models\n",
    "print(f\"Above 3000 reviews model RMSE: {above_3000_rmse}\")\n",
    "print(f\"Below 3000 reviews model RMSE: {below_3000_rmse}\")"
   ]
  },
  {
   "cell_type": "code",
   "execution_count": null,
   "id": "ad312004",
   "metadata": {
    "papermill": {
     "duration": 0.042571,
     "end_time": "2023-11-27T01:20:43.053446",
     "exception": false,
     "start_time": "2023-11-27T01:20:43.010875",
     "status": "completed"
    },
    "tags": []
   },
   "outputs": [],
   "source": []
  }
 ],
 "metadata": {
  "kaggle": {
   "accelerator": "none",
   "dataSources": [
    {
     "datasetId": 3892743,
     "sourceId": 6914820,
     "sourceType": "datasetVersion"
    }
   ],
   "dockerImageVersionId": 30579,
   "isGpuEnabled": false,
   "isInternetEnabled": true,
   "language": "python",
   "sourceType": "notebook"
  },
  "kernelspec": {
   "display_name": "Python 3",
   "language": "python",
   "name": "python3"
  },
  "language_info": {
   "codemirror_mode": {
    "name": "ipython",
    "version": 3
   },
   "file_extension": ".py",
   "mimetype": "text/x-python",
   "name": "python",
   "nbconvert_exporter": "python",
   "pygments_lexer": "ipython3",
   "version": "3.10.12"
  },
  "papermill": {
   "default_parameters": {},
   "duration": 431.000262,
   "end_time": "2023-11-27T01:20:45.718158",
   "environment_variables": {},
   "exception": null,
   "input_path": "__notebook__.ipynb",
   "output_path": "__notebook__.ipynb",
   "parameters": {},
   "start_time": "2023-11-27T01:13:34.717896",
   "version": "2.4.0"
  }
 },
 "nbformat": 4,
 "nbformat_minor": 5
}
